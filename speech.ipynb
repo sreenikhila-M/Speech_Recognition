{
 "cells": [
  {
   "cell_type": "code",
   "execution_count": 20,
   "metadata": {},
   "outputs": [
    {
     "name": "stdout",
     "output_type": "stream",
     "text": [
      "Speak:\n",
      "You said:hello can you hear me\n"
     ]
    }
   ],
   "source": [
    "import pyaudio\n",
    "import speech_recognition as sr\n",
    "\n",
    "r= sr.Recognizer()\n",
    "with sr.Microphone() as source:\n",
    "    print(\"Speak:\")\n",
    "    audio= r.listen(source)\n",
    "    try:\n",
    "        output= r.recognize_google(audio)\n",
    "        print(\"You said:{}\".format(output))\n",
    "        \n",
    "    except:\n",
    "        print(\"I cant recognize,Please speak again\")\n"
   ]
  },
  {
   "cell_type": "code",
   "execution_count": null,
   "metadata": {},
   "outputs": [],
   "source": []
  }
 ],
 "metadata": {
  "kernelspec": {
   "display_name": "Python 2",
   "language": "python",
   "name": "python2"
  },
  "language_info": {
   "codemirror_mode": {
    "name": "ipython",
    "version": 2
   },
   "file_extension": ".py",
   "mimetype": "text/x-python",
   "name": "python",
   "nbconvert_exporter": "python",
   "pygments_lexer": "ipython2",
   "version": "2.7.16"
  }
 },
 "nbformat": 4,
 "nbformat_minor": 2
}
